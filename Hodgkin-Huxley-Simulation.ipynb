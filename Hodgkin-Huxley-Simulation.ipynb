{
 "cells": [
  {
   "cell_type": "code",
   "execution_count": 1,
   "metadata": {},
   "outputs": [],
   "source": [
    "#Code for Simulation of Hodkin-Huxley Conductance-Based Neuron Models\n",
    "\n",
    "import numpy as np\n",
    "import matplotlib.pyplot as plt\n",
    "\n"
   ]
  },
  {
   "cell_type": "code",
   "execution_count": null,
   "metadata": {},
   "outputs": [],
   "source": [
    "class Neuron:\n",
    "    def __init__(self, g_K = , g_Na = , g_L = , V_K = , V_Na = , V_L = , )\n",
    "\n",
    "# Create Neuron Object\n",
    " # neurons have initial state\n",
    " # neurons have default parameters \n",
    "# neurons have a derivative \n",
    "\n",
    "#Run Simulation with Single Neuron\n",
    "# for each neuron compute the derivative and integrate the diffeq\n"
   ]
  }
 ],
 "metadata": {
  "kernelspec": {
   "display_name": "Python 3",
   "language": "python",
   "name": "python3"
  },
  "language_info": {
   "codemirror_mode": {
    "name": "ipython",
    "version": 3
   },
   "file_extension": ".py",
   "mimetype": "text/x-python",
   "name": "python",
   "nbconvert_exporter": "python",
   "pygments_lexer": "ipython3",
   "version": "3.7.4"
  }
 },
 "nbformat": 4,
 "nbformat_minor": 2
}
